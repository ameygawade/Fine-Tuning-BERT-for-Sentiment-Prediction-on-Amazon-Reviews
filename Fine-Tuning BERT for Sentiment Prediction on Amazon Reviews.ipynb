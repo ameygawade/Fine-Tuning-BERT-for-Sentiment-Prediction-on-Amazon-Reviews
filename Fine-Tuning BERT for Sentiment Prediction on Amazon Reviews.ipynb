{
 "cells": [
  {
   "cell_type": "markdown",
   "metadata": {},
   "source": [
    "## Step 1: Setting Up the Environment"
   ]
  },
  {
   "cell_type": "code",
   "execution_count": 5,
   "metadata": {},
   "outputs": [
    {
     "name": "stdout",
     "output_type": "stream",
     "text": [
      "Requirement already satisfied: pyasn1 in c:\\users\\amey9\\appdata\\local\\programs\\python\\python311\\lib\\site-packages (0.6.1)\n",
      "Requirement already satisfied: httpx in c:\\users\\amey9\\appdata\\local\\programs\\python\\python311\\lib\\site-packages (0.27.2)\n",
      "Requirement already satisfied: markdown in c:\\users\\amey9\\appdata\\local\\programs\\python\\python311\\lib\\site-packages (3.7)\n",
      "Requirement already satisfied: pydantic in c:\\users\\amey9\\appdata\\local\\programs\\python\\python311\\lib\\site-packages (2.9.2)\n",
      "Requirement already satisfied: pyjwt in c:\\users\\amey9\\appdata\\local\\programs\\python\\python311\\lib\\site-packages (2.9.0)\n",
      "Requirement already satisfied: python-slugify in c:\\users\\amey9\\appdata\\local\\programs\\python\\python311\\lib\\site-packages (8.0.4)\n",
      "Requirement already satisfied: tabulate in c:\\users\\amey9\\appdata\\local\\programs\\python\\python311\\lib\\site-packages (0.9.0)\n",
      "Requirement already satisfied: werkzeug in c:\\users\\amey9\\appdata\\local\\programs\\python\\python311\\lib\\site-packages (3.0.4)\n",
      "Requirement already satisfied: google-auth in c:\\users\\amey9\\appdata\\local\\programs\\python\\python311\\lib\\site-packages (2.35.0)\n",
      "Requirement already satisfied: altair==4.2.1 in c:\\users\\amey9\\appdata\\local\\programs\\python\\python311\\lib\\site-packages (4.2.1)\n",
      "Requirement already satisfied: matplotlib in c:\\users\\amey9\\appdata\\local\\programs\\python\\python311\\lib\\site-packages (3.9.2)\n",
      "Requirement already satisfied: entrypoints in c:\\users\\amey9\\appdata\\local\\programs\\python\\python311\\lib\\site-packages (from altair==4.2.1) (0.4)\n",
      "Requirement already satisfied: jinja2 in c:\\users\\amey9\\appdata\\local\\programs\\python\\python311\\lib\\site-packages (from altair==4.2.1) (3.1.4)\n",
      "Requirement already satisfied: jsonschema>=3.0 in c:\\users\\amey9\\appdata\\local\\programs\\python\\python311\\lib\\site-packages (from altair==4.2.1) (4.23.0)\n",
      "Requirement already satisfied: numpy in c:\\users\\amey9\\appdata\\local\\programs\\python\\python311\\lib\\site-packages (from altair==4.2.1) (2.1.2)\n",
      "Requirement already satisfied: pandas>=0.18 in c:\\users\\amey9\\appdata\\local\\programs\\python\\python311\\lib\\site-packages (from altair==4.2.1) (2.2.3)\n",
      "Requirement already satisfied: toolz in c:\\users\\amey9\\appdata\\local\\programs\\python\\python311\\lib\\site-packages (from altair==4.2.1) (1.0.0)\n",
      "Requirement already satisfied: anyio in c:\\users\\amey9\\appdata\\local\\programs\\python\\python311\\lib\\site-packages (from httpx) (4.6.2.post1)\n",
      "Requirement already satisfied: certifi in c:\\users\\amey9\\appdata\\local\\programs\\python\\python311\\lib\\site-packages (from httpx) (2024.8.30)\n",
      "Requirement already satisfied: httpcore==1.* in c:\\users\\amey9\\appdata\\local\\programs\\python\\python311\\lib\\site-packages (from httpx) (1.0.6)\n",
      "Requirement already satisfied: idna in c:\\users\\amey9\\appdata\\local\\programs\\python\\python311\\lib\\site-packages (from httpx) (3.10)\n",
      "Requirement already satisfied: sniffio in c:\\users\\amey9\\appdata\\local\\programs\\python\\python311\\lib\\site-packages (from httpx) (1.3.1)\n",
      "Requirement already satisfied: h11<0.15,>=0.13 in c:\\users\\amey9\\appdata\\local\\programs\\python\\python311\\lib\\site-packages (from httpcore==1.*->httpx) (0.14.0)\n",
      "Requirement already satisfied: annotated-types>=0.6.0 in c:\\users\\amey9\\appdata\\local\\programs\\python\\python311\\lib\\site-packages (from pydantic) (0.7.0)\n",
      "Requirement already satisfied: pydantic-core==2.23.4 in c:\\users\\amey9\\appdata\\local\\programs\\python\\python311\\lib\\site-packages (from pydantic) (2.23.4)\n",
      "Requirement already satisfied: typing-extensions>=4.6.1 in c:\\users\\amey9\\appdata\\roaming\\python\\python311\\site-packages (from pydantic) (4.12.2)\n",
      "Requirement already satisfied: text-unidecode>=1.3 in c:\\users\\amey9\\appdata\\local\\programs\\python\\python311\\lib\\site-packages (from python-slugify) (1.3)\n",
      "Requirement already satisfied: MarkupSafe>=2.1.1 in c:\\users\\amey9\\appdata\\local\\programs\\python\\python311\\lib\\site-packages (from werkzeug) (3.0.1)\n",
      "Requirement already satisfied: cachetools<6.0,>=2.0.0 in c:\\users\\amey9\\appdata\\local\\programs\\python\\python311\\lib\\site-packages (from google-auth) (5.5.0)\n",
      "Requirement already satisfied: pyasn1-modules>=0.2.1 in c:\\users\\amey9\\appdata\\local\\programs\\python\\python311\\lib\\site-packages (from google-auth) (0.4.1)\n",
      "Requirement already satisfied: rsa<5,>=3.1.4 in c:\\users\\amey9\\appdata\\local\\programs\\python\\python311\\lib\\site-packages (from google-auth) (4.9)\n",
      "Requirement already satisfied: contourpy>=1.0.1 in c:\\users\\amey9\\appdata\\local\\programs\\python\\python311\\lib\\site-packages (from matplotlib) (1.3.0)\n",
      "Requirement already satisfied: cycler>=0.10 in c:\\users\\amey9\\appdata\\local\\programs\\python\\python311\\lib\\site-packages (from matplotlib) (0.12.1)\n",
      "Requirement already satisfied: fonttools>=4.22.0 in c:\\users\\amey9\\appdata\\local\\programs\\python\\python311\\lib\\site-packages (from matplotlib) (4.54.1)\n",
      "Requirement already satisfied: kiwisolver>=1.3.1 in c:\\users\\amey9\\appdata\\local\\programs\\python\\python311\\lib\\site-packages (from matplotlib) (1.4.7)\n",
      "Requirement already satisfied: packaging>=20.0 in c:\\users\\amey9\\appdata\\roaming\\python\\python311\\site-packages (from matplotlib) (24.1)\n",
      "Requirement already satisfied: pillow>=8 in c:\\users\\amey9\\appdata\\local\\programs\\python\\python311\\lib\\site-packages (from matplotlib) (10.4.0)\n",
      "Requirement already satisfied: pyparsing>=2.3.1 in c:\\users\\amey9\\appdata\\local\\programs\\python\\python311\\lib\\site-packages (from matplotlib) (3.2.0)\n",
      "Requirement already satisfied: python-dateutil>=2.7 in c:\\users\\amey9\\appdata\\roaming\\python\\python311\\site-packages (from matplotlib) (2.9.0.post0)\n",
      "Requirement already satisfied: attrs>=22.2.0 in c:\\users\\amey9\\appdata\\local\\programs\\python\\python311\\lib\\site-packages (from jsonschema>=3.0->altair==4.2.1) (24.2.0)\n",
      "Requirement already satisfied: jsonschema-specifications>=2023.03.6 in c:\\users\\amey9\\appdata\\local\\programs\\python\\python311\\lib\\site-packages (from jsonschema>=3.0->altair==4.2.1) (2024.10.1)\n",
      "Requirement already satisfied: referencing>=0.28.4 in c:\\users\\amey9\\appdata\\local\\programs\\python\\python311\\lib\\site-packages (from jsonschema>=3.0->altair==4.2.1) (0.35.1)\n",
      "Requirement already satisfied: rpds-py>=0.7.1 in c:\\users\\amey9\\appdata\\local\\programs\\python\\python311\\lib\\site-packages (from jsonschema>=3.0->altair==4.2.1) (0.20.0)\n",
      "Requirement already satisfied: pytz>=2020.1 in c:\\users\\amey9\\appdata\\local\\programs\\python\\python311\\lib\\site-packages (from pandas>=0.18->altair==4.2.1) (2024.2)\n",
      "Requirement already satisfied: tzdata>=2022.7 in c:\\users\\amey9\\appdata\\local\\programs\\python\\python311\\lib\\site-packages (from pandas>=0.18->altair==4.2.1) (2024.2)\n",
      "Requirement already satisfied: six>=1.5 in c:\\users\\amey9\\appdata\\roaming\\python\\python311\\site-packages (from python-dateutil>=2.7->matplotlib) (1.16.0)\n",
      "Note: you may need to restart the kernel to use updated packages.\n"
     ]
    }
   ],
   "source": [
    "pip install pyasn1 httpx markdown pydantic pyjwt python-slugify tabulate werkzeug google-auth altair==4.2.1 matplotlib\n"
   ]
  },
  {
   "cell_type": "code",
   "execution_count": 6,
   "metadata": {},
   "outputs": [
    {
     "name": "stdout",
     "output_type": "stream",
     "text": [
      "Requirement already satisfied: transformers in c:\\users\\amey9\\appdata\\local\\programs\\python\\python311\\lib\\site-packages (4.45.2)\n",
      "Requirement already satisfied: numpy in c:\\users\\amey9\\appdata\\local\\programs\\python\\python311\\lib\\site-packages (2.1.2)\n",
      "Requirement already satisfied: pandas in c:\\users\\amey9\\appdata\\local\\programs\\python\\python311\\lib\\site-packages (2.2.3)\n",
      "Requirement already satisfied: scikit-learn in c:\\users\\amey9\\appdata\\local\\programs\\python\\python311\\lib\\site-packages (1.5.2)\n",
      "Requirement already satisfied: ftfy in c:\\users\\amey9\\appdata\\local\\programs\\python\\python311\\lib\\site-packages (6.3.0)\n",
      "Requirement already satisfied: emoji in c:\\users\\amey9\\appdata\\local\\programs\\python\\python311\\lib\\site-packages (2.14.0)\n",
      "Requirement already satisfied: safetensors in c:\\users\\amey9\\appdata\\local\\programs\\python\\python311\\lib\\site-packages (0.4.5)\n",
      "Requirement already satisfied: tokenizers in c:\\users\\amey9\\appdata\\local\\programs\\python\\python311\\lib\\site-packages (0.20.1)\n",
      "Requirement already satisfied: torchvision in c:\\users\\amey9\\appdata\\local\\programs\\python\\python311\\lib\\site-packages (0.19.1)\n",
      "Requirement already satisfied: torchaudio in c:\\users\\amey9\\appdata\\local\\programs\\python\\python311\\lib\\site-packages (2.4.1)\n",
      "Requirement already satisfied: streamlit in c:\\users\\amey9\\appdata\\local\\programs\\python\\python311\\lib\\site-packages (1.39.0)\n",
      "Requirement already satisfied: filelock in c:\\users\\amey9\\appdata\\local\\programs\\python\\python311\\lib\\site-packages (from transformers) (3.16.1)\n",
      "Requirement already satisfied: huggingface-hub<1.0,>=0.23.2 in c:\\users\\amey9\\appdata\\local\\programs\\python\\python311\\lib\\site-packages (from transformers) (0.25.2)\n",
      "Requirement already satisfied: packaging>=20.0 in c:\\users\\amey9\\appdata\\roaming\\python\\python311\\site-packages (from transformers) (24.1)\n",
      "Requirement already satisfied: pyyaml>=5.1 in c:\\users\\amey9\\appdata\\local\\programs\\python\\python311\\lib\\site-packages (from transformers) (6.0.2)\n",
      "Requirement already satisfied: regex!=2019.12.17 in c:\\users\\amey9\\appdata\\local\\programs\\python\\python311\\lib\\site-packages (from transformers) (2024.9.11)\n",
      "Requirement already satisfied: requests in c:\\users\\amey9\\appdata\\local\\programs\\python\\python311\\lib\\site-packages (from transformers) (2.32.3)\n",
      "Requirement already satisfied: tqdm>=4.27 in c:\\users\\amey9\\appdata\\local\\programs\\python\\python311\\lib\\site-packages (from transformers) (4.66.5)\n",
      "Requirement already satisfied: python-dateutil>=2.8.2 in c:\\users\\amey9\\appdata\\roaming\\python\\python311\\site-packages (from pandas) (2.9.0.post0)\n",
      "Requirement already satisfied: pytz>=2020.1 in c:\\users\\amey9\\appdata\\local\\programs\\python\\python311\\lib\\site-packages (from pandas) (2024.2)\n",
      "Requirement already satisfied: tzdata>=2022.7 in c:\\users\\amey9\\appdata\\local\\programs\\python\\python311\\lib\\site-packages (from pandas) (2024.2)\n",
      "Requirement already satisfied: scipy>=1.6.0 in c:\\users\\amey9\\appdata\\local\\programs\\python\\python311\\lib\\site-packages (from scikit-learn) (1.14.1)\n",
      "Requirement already satisfied: joblib>=1.2.0 in c:\\users\\amey9\\appdata\\local\\programs\\python\\python311\\lib\\site-packages (from scikit-learn) (1.4.2)\n",
      "Requirement already satisfied: threadpoolctl>=3.1.0 in c:\\users\\amey9\\appdata\\local\\programs\\python\\python311\\lib\\site-packages (from scikit-learn) (3.5.0)\n",
      "Requirement already satisfied: wcwidth in c:\\users\\amey9\\appdata\\roaming\\python\\python311\\site-packages (from ftfy) (0.2.13)\n",
      "Requirement already satisfied: torch==2.4.1 in c:\\users\\amey9\\appdata\\local\\programs\\python\\python311\\lib\\site-packages (from torchvision) (2.4.1)\n",
      "Requirement already satisfied: pillow!=8.3.*,>=5.3.0 in c:\\users\\amey9\\appdata\\local\\programs\\python\\python311\\lib\\site-packages (from torchvision) (10.4.0)\n",
      "Requirement already satisfied: typing-extensions>=4.8.0 in c:\\users\\amey9\\appdata\\roaming\\python\\python311\\site-packages (from torch==2.4.1->torchvision) (4.12.2)\n",
      "Requirement already satisfied: sympy in c:\\users\\amey9\\appdata\\local\\programs\\python\\python311\\lib\\site-packages (from torch==2.4.1->torchvision) (1.13.3)\n",
      "Requirement already satisfied: networkx in c:\\users\\amey9\\appdata\\local\\programs\\python\\python311\\lib\\site-packages (from torch==2.4.1->torchvision) (3.4.1)\n",
      "Requirement already satisfied: jinja2 in c:\\users\\amey9\\appdata\\local\\programs\\python\\python311\\lib\\site-packages (from torch==2.4.1->torchvision) (3.1.4)\n",
      "Requirement already satisfied: fsspec in c:\\users\\amey9\\appdata\\local\\programs\\python\\python311\\lib\\site-packages (from torch==2.4.1->torchvision) (2024.9.0)\n",
      "Requirement already satisfied: altair<6,>=4.0 in c:\\users\\amey9\\appdata\\local\\programs\\python\\python311\\lib\\site-packages (from streamlit) (4.2.1)\n",
      "Requirement already satisfied: blinker<2,>=1.0.0 in c:\\users\\amey9\\appdata\\local\\programs\\python\\python311\\lib\\site-packages (from streamlit) (1.8.2)\n",
      "Requirement already satisfied: cachetools<6,>=4.0 in c:\\users\\amey9\\appdata\\local\\programs\\python\\python311\\lib\\site-packages (from streamlit) (5.5.0)\n",
      "Requirement already satisfied: click<9,>=7.0 in c:\\users\\amey9\\appdata\\local\\programs\\python\\python311\\lib\\site-packages (from streamlit) (8.1.7)\n",
      "Requirement already satisfied: protobuf<6,>=3.20 in c:\\users\\amey9\\appdata\\local\\programs\\python\\python311\\lib\\site-packages (from streamlit) (5.28.2)\n",
      "Requirement already satisfied: pyarrow>=7.0 in c:\\users\\amey9\\appdata\\local\\programs\\python\\python311\\lib\\site-packages (from streamlit) (17.0.0)\n",
      "Requirement already satisfied: rich<14,>=10.14.0 in c:\\users\\amey9\\appdata\\local\\programs\\python\\python311\\lib\\site-packages (from streamlit) (13.9.2)\n",
      "Requirement already satisfied: tenacity<10,>=8.1.0 in c:\\users\\amey9\\appdata\\local\\programs\\python\\python311\\lib\\site-packages (from streamlit) (9.0.0)\n",
      "Requirement already satisfied: toml<2,>=0.10.1 in c:\\users\\amey9\\appdata\\local\\programs\\python\\python311\\lib\\site-packages (from streamlit) (0.10.2)\n",
      "Requirement already satisfied: gitpython!=3.1.19,<4,>=3.0.7 in c:\\users\\amey9\\appdata\\local\\programs\\python\\python311\\lib\\site-packages (from streamlit) (3.1.43)\n",
      "Requirement already satisfied: pydeck<1,>=0.8.0b4 in c:\\users\\amey9\\appdata\\local\\programs\\python\\python311\\lib\\site-packages (from streamlit) (0.9.1)\n",
      "Requirement already satisfied: tornado<7,>=6.0.3 in c:\\users\\amey9\\appdata\\roaming\\python\\python311\\site-packages (from streamlit) (6.4.1)\n",
      "Requirement already satisfied: watchdog<6,>=2.1.5 in c:\\users\\amey9\\appdata\\local\\programs\\python\\python311\\lib\\site-packages (from streamlit) (5.0.3)\n",
      "Requirement already satisfied: entrypoints in c:\\users\\amey9\\appdata\\local\\programs\\python\\python311\\lib\\site-packages (from altair<6,>=4.0->streamlit) (0.4)\n",
      "Requirement already satisfied: jsonschema>=3.0 in c:\\users\\amey9\\appdata\\local\\programs\\python\\python311\\lib\\site-packages (from altair<6,>=4.0->streamlit) (4.23.0)\n",
      "Requirement already satisfied: toolz in c:\\users\\amey9\\appdata\\local\\programs\\python\\python311\\lib\\site-packages (from altair<6,>=4.0->streamlit) (1.0.0)\n",
      "Requirement already satisfied: colorama in c:\\users\\amey9\\appdata\\roaming\\python\\python311\\site-packages (from click<9,>=7.0->streamlit) (0.4.6)\n",
      "Requirement already satisfied: gitdb<5,>=4.0.1 in c:\\users\\amey9\\appdata\\local\\programs\\python\\python311\\lib\\site-packages (from gitpython!=3.1.19,<4,>=3.0.7->streamlit) (4.0.11)\n",
      "Requirement already satisfied: six>=1.5 in c:\\users\\amey9\\appdata\\roaming\\python\\python311\\site-packages (from python-dateutil>=2.8.2->pandas) (1.16.0)\n",
      "Requirement already satisfied: charset-normalizer<4,>=2 in c:\\users\\amey9\\appdata\\local\\programs\\python\\python311\\lib\\site-packages (from requests->transformers) (3.4.0)\n",
      "Requirement already satisfied: idna<4,>=2.5 in c:\\users\\amey9\\appdata\\local\\programs\\python\\python311\\lib\\site-packages (from requests->transformers) (3.10)\n",
      "Requirement already satisfied: urllib3<3,>=1.21.1 in c:\\users\\amey9\\appdata\\local\\programs\\python\\python311\\lib\\site-packages (from requests->transformers) (2.2.3)\n",
      "Requirement already satisfied: certifi>=2017.4.17 in c:\\users\\amey9\\appdata\\local\\programs\\python\\python311\\lib\\site-packages (from requests->transformers) (2024.8.30)\n",
      "Requirement already satisfied: markdown-it-py>=2.2.0 in c:\\users\\amey9\\appdata\\local\\programs\\python\\python311\\lib\\site-packages (from rich<14,>=10.14.0->streamlit) (3.0.0)\n",
      "Requirement already satisfied: pygments<3.0.0,>=2.13.0 in c:\\users\\amey9\\appdata\\roaming\\python\\python311\\site-packages (from rich<14,>=10.14.0->streamlit) (2.18.0)\n",
      "Requirement already satisfied: smmap<6,>=3.0.1 in c:\\users\\amey9\\appdata\\local\\programs\\python\\python311\\lib\\site-packages (from gitdb<5,>=4.0.1->gitpython!=3.1.19,<4,>=3.0.7->streamlit) (5.0.1)\n",
      "Requirement already satisfied: MarkupSafe>=2.0 in c:\\users\\amey9\\appdata\\local\\programs\\python\\python311\\lib\\site-packages (from jinja2->torch==2.4.1->torchvision) (3.0.1)\n",
      "Requirement already satisfied: attrs>=22.2.0 in c:\\users\\amey9\\appdata\\local\\programs\\python\\python311\\lib\\site-packages (from jsonschema>=3.0->altair<6,>=4.0->streamlit) (24.2.0)\n",
      "Requirement already satisfied: jsonschema-specifications>=2023.03.6 in c:\\users\\amey9\\appdata\\local\\programs\\python\\python311\\lib\\site-packages (from jsonschema>=3.0->altair<6,>=4.0->streamlit) (2024.10.1)\n",
      "Requirement already satisfied: referencing>=0.28.4 in c:\\users\\amey9\\appdata\\local\\programs\\python\\python311\\lib\\site-packages (from jsonschema>=3.0->altair<6,>=4.0->streamlit) (0.35.1)\n",
      "Requirement already satisfied: rpds-py>=0.7.1 in c:\\users\\amey9\\appdata\\local\\programs\\python\\python311\\lib\\site-packages (from jsonschema>=3.0->altair<6,>=4.0->streamlit) (0.20.0)\n",
      "Requirement already satisfied: mdurl~=0.1 in c:\\users\\amey9\\appdata\\local\\programs\\python\\python311\\lib\\site-packages (from markdown-it-py>=2.2.0->rich<14,>=10.14.0->streamlit) (0.1.2)\n",
      "Requirement already satisfied: mpmath<1.4,>=1.1.0 in c:\\users\\amey9\\appdata\\local\\programs\\python\\python311\\lib\\site-packages (from sympy->torch==2.4.1->torchvision) (1.3.0)\n",
      "Note: you may need to restart the kernel to use updated packages.\n"
     ]
    }
   ],
   "source": [
    "pip install transformers numpy pandas scikit-learn ftfy emoji safetensors tokenizers torchvision torchaudio streamlit\n"
   ]
  },
  {
   "cell_type": "markdown",
   "metadata": {},
   "source": [
    "## Step 2: Data Loading and Preprocessing"
   ]
  },
  {
   "cell_type": "code",
   "execution_count": 7,
   "metadata": {},
   "outputs": [
    {
     "name": "stdout",
     "output_type": "stream",
     "text": [
      "(3150, 5)\n",
      "   rating       date         variation  \\\n",
      "0       5  31-Jul-18  Charcoal Fabric    \n",
      "1       5  31-Jul-18  Charcoal Fabric    \n",
      "2       4  31-Jul-18    Walnut Finish    \n",
      "3       5  31-Jul-18  Charcoal Fabric    \n",
      "4       5  31-Jul-18  Charcoal Fabric    \n",
      "\n",
      "                                    verified_reviews  feedback  \n",
      "0                                      Love my Echo!         1  \n",
      "1                                          Loved it!         1  \n",
      "2  Sometimes while playing a game, you can answer...         1  \n",
      "3  I have had a lot of fun with this thing. My 4 ...         1  \n",
      "4                                              Music         1  \n",
      "            rating     feedback\n",
      "count  3150.000000  3150.000000\n",
      "mean      4.463175     0.918413\n",
      "std       1.068506     0.273778\n",
      "min       1.000000     0.000000\n",
      "25%       4.000000     1.000000\n",
      "50%       5.000000     1.000000\n",
      "75%       5.000000     1.000000\n",
      "max       5.000000     1.000000\n",
      "feedback\n",
      "1    2893\n",
      "0     257\n",
      "Name: count, dtype: int64\n"
     ]
    }
   ],
   "source": [
    "import pandas as pd\n",
    "from sklearn.model_selection import train_test_split\n",
    "from pprint import pprint\n",
    "\n",
    "# Load the dataset\n",
    "df = pd.read_csv('data/output.csv')\n",
    "\n",
    "# Check dimension of the data\n",
    "pprint(df.shape)\n",
    "\n",
    "# Display the first few rows\n",
    "pprint(df.head())\n",
    "\n",
    "# Check columns with numerical values\n",
    "pprint(df.describe())\n",
    "\n",
    "# Check distribution of classes\n",
    "pprint(df['feedback'].value_counts())"
   ]
  },
  {
   "cell_type": "code",
   "execution_count": 8,
   "metadata": {},
   "outputs": [
    {
     "name": "stdout",
     "output_type": "stream",
     "text": [
      "'Ratings distribution for positive feedback:'\n",
      "rating\n",
      "5    2286\n",
      "4     455\n",
      "3     152\n",
      "Name: count, dtype: int64\n",
      "'Ratings distribution for negative feedback:'\n",
      "rating\n",
      "1    161\n",
      "2     96\n",
      "Name: count, dtype: int64\n"
     ]
    }
   ],
   "source": [
    "# Check rating distribution for positive and negative feedback\n",
    "positive_feedback_ratings = df[df['feedback'] == 1]['rating'].value_counts()\n",
    "negative_feedback_ratings = df[df['feedback'] == 0]['rating'].value_counts()\n",
    "\n",
    "pprint(\"Ratings distribution for positive feedback:\")\n",
    "pprint(positive_feedback_ratings)\n",
    "\n",
    "pprint(\"Ratings distribution for negative feedback:\")\n",
    "pprint(negative_feedback_ratings)"
   ]
  },
  {
   "cell_type": "markdown",
   "metadata": {},
   "source": [
    "### Identifying null and empty entries"
   ]
  },
  {
   "cell_type": "code",
   "execution_count": 9,
   "metadata": {},
   "outputs": [
    {
     "name": "stdout",
     "output_type": "stream",
     "text": [
      "Number of NaN (null) entries: 1\n",
      "Number of empty/whitespace-only entries: 79\n"
     ]
    }
   ],
   "source": [
    "null_count = df['verified_reviews'].isna().sum()\n",
    "\n",
    "# Count how many entries consist of only whitespace or are empty\n",
    "empty_whitespace_count = df['verified_reviews'].str.match(r'^\\s*$', na=False).sum()\n",
    "\n",
    "# Display the counts\n",
    "print(f\"Number of NaN (null) entries: {null_count}\")\n",
    "print(f\"Number of empty/whitespace-only entries: {empty_whitespace_count}\")"
   ]
  },
  {
   "cell_type": "code",
   "execution_count": 10,
   "metadata": {},
   "outputs": [
    {
     "name": "stdout",
     "output_type": "stream",
     "text": [
      "Distribution of feedback and rating for null entries:\n",
      "feedback  rating\n",
      "0         2         1\n",
      "Name: count, dtype: int64\n",
      "Distribution of feedback and rating for whitespace entries:\n",
      "feedback  rating\n",
      "1         5         40\n",
      "0         1         15\n",
      "1         3         12\n",
      "          4          8\n",
      "0         2          4\n",
      "Name: count, dtype: int64\n"
     ]
    }
   ],
   "source": [
    "# Filter rows with null 'verified_reviews'\n",
    "null_entries = df[df['verified_reviews'].isna()]\n",
    "\n",
    "# Filter rows where 'verified_reviews' consist of only whitespace\n",
    "whitespace_entries = df[df['verified_reviews'].str.match(r'^\\s*$', na=False)]\n",
    "\n",
    "# Check the distribution of 'feedback' and 'rating' for null entries\n",
    "print(\"Distribution of feedback and rating for null entries:\")\n",
    "print(null_entries[['feedback', 'rating']].value_counts())\n",
    "\n",
    "# Check the distribution of 'feedback' and 'rating' for whitespace entries\n",
    "print(\"Distribution of feedback and rating for whitespace entries:\")\n",
    "print(whitespace_entries[['feedback', 'rating']].value_counts())\n"
   ]
  },
  {
   "cell_type": "code",
   "execution_count": 11,
   "metadata": {},
   "outputs": [
    {
     "name": "stdout",
     "output_type": "stream",
     "text": [
      "Rows with null entries in 'verified_reviews':\n",
      "     rating       date variation verified_reviews  feedback\n",
      "473       2  29-Jun-18     White              NaN         0\n",
      "\"Rows with whitespace entries in 'verified_reviews':\"\n",
      "      rating       date             variation verified_reviews  feedback\n",
      "85         5  30-Jul-18  Heather Gray Fabric                           1\n",
      "183        3  29-Jul-18  Heather Gray Fabric                           1\n",
      "219        5  29-Jul-18     Sandstone Fabric                           1\n",
      "374        1  26-Jul-18                 Black                          0\n",
      "406        1  16-Jul-18                 White                          0\n",
      "...      ...        ...                   ...              ...       ...\n",
      "3114       3  30-Jul-18            Black  Dot                          1\n",
      "3120       5  30-Jul-18            Black  Dot                          1\n",
      "3123       4  30-Jul-18            Black  Dot                          1\n",
      "3126       5  30-Jul-18            Black  Dot                          1\n",
      "3141       3  30-Jul-18            Black  Dot                          1\n",
      "\n",
      "[79 rows x 5 columns]\n"
     ]
    }
   ],
   "source": [
    "# Display rows where 'verified_reviews' is null\n",
    "null_entries = df[df['verified_reviews'].isna()]\n",
    "print(\"Rows with null entries in 'verified_reviews':\")\n",
    "print(null_entries)\n",
    "\n",
    "# Display rows where 'verified_reviews' is null\n",
    "whitespace_entries = df[df['verified_reviews'].str.match(r'^\\s*$',na=False)]\n",
    "pprint(\"Rows with whitespace entries in 'verified_reviews':\")\n",
    "pprint(whitespace_entries)\n"
   ]
  },
  {
   "cell_type": "markdown",
   "metadata": {},
   "source": [
    "- Distribution Summary:\n",
    "    - For null entries:\n",
    "        - There's only 1 entry where feedback is 0 and rating is 2. \n",
    "        - This is a negative feedback review, and since it's only a single entry, removing it might not significantly impact the dataset.\n",
    "    - For whitespace-only entries:\n",
    "        - The majority of these are positive feedback with a rating of 5 (40 instances).\n",
    "        - There are also negative feedback entries with ratings of 1 (15 instances) and a few positive ones with ratings of 3 and 4."
   ]
  },
  {
   "cell_type": "markdown",
   "metadata": {},
   "source": [
    "### Handling Missing and Empty Reviews"
   ]
  },
  {
   "cell_type": "markdown",
   "metadata": {},
   "source": [
    "- Dropping these entries would ensure that only meaningful data is passed to the model. Since these entries don't provide any valuable text data for sentiment analysis, it might be best to remove them.\n",
    "- This approach will maintain the quality of the dataset and avoid introducing any biases that could come from imputing placeholder values like \"No feedback.\""
   ]
  },
  {
   "cell_type": "code",
   "execution_count": 12,
   "metadata": {},
   "outputs": [
    {
     "name": "stdout",
     "output_type": "stream",
     "text": [
      "New dataset shape after removing null and whitespace entries: (3070, 5)\n"
     ]
    }
   ],
   "source": [
    "# Remove rows with NaN (null) in 'verified_reviews'\n",
    "df = df.dropna(subset=['verified_reviews'])\n",
    "\n",
    "# Remove rows where 'verified_reviews' consist of only whitespace\n",
    "df = df[~df['verified_reviews'].str.match(r'^\\s*$', na=False)]\n",
    "\n",
    "# Check the new shape of the dataset after removing these entries\n",
    "print(f\"New dataset shape after removing null and whitespace entries: {df.shape}\")\n"
   ]
  },
  {
   "cell_type": "markdown",
   "metadata": {},
   "source": [
    "### Identifying the non-ascii entries "
   ]
  },
  {
   "cell_type": "code",
   "execution_count": 13,
   "metadata": {},
   "outputs": [
    {
     "name": "stdout",
     "output_type": "stream",
     "text": [
      "Number of non-ascii entries: 338\n",
      "percentage of non-ascii entry: 11.0%\n"
     ]
    }
   ],
   "source": [
    "non_ascii_count = df['verified_reviews'].str.contains(r'[^\\x00-\\x7F]', na=False).sum()\n",
    "print(f\"Number of non-ascii entries: {non_ascii_count}\")\n",
    "total_entries = df['verified_reviews'].count()\n",
    "percentage_non_ascii_count = non_ascii_count/total_entries\n",
    "\n",
    "print(f\"percentage of non-ascii entry: {(round(percentage_non_ascii_count,2))*100}%\")"
   ]
  },
  {
   "cell_type": "markdown",
   "metadata": {},
   "source": [
    "### Identifying and Counting Entries with Emojis"
   ]
  },
  {
   "cell_type": "code",
   "execution_count": 14,
   "metadata": {},
   "outputs": [
    {
     "name": "stdout",
     "output_type": "stream",
     "text": [
      "Number of entries containing emojis: 29\n",
      "      rating       date                     variation  \\\n",
      "49         3  30-Jul-18              Charcoal Fabric    \n",
      "60         5  30-Jul-18          Heather Gray Fabric    \n",
      "134        5  30-Jul-18              Charcoal Fabric    \n",
      "229        5  29-Jul-18              Charcoal Fabric    \n",
      "447        5  05-Jul-18                         Black   \n",
      "541        5  16-Jun-18                         White   \n",
      "681        3  19-May-18                         Black   \n",
      "744        3  30-Jul-18              Charcoal Fabric    \n",
      "755        5  30-Jul-18          Heather Gray Fabric    \n",
      "829        5  30-Jul-18              Charcoal Fabric    \n",
      "924        5  29-Jul-18              Charcoal Fabric    \n",
      "1101       4  30-Jul-18                   Black  Spot   \n",
      "1160       5  29-Jul-18                   Black  Spot   \n",
      "1237       5  26-Jul-18                   Black  Spot   \n",
      "1238       5  26-Jul-18                   Black  Spot   \n",
      "1351       4  19-Jul-18                   White  Spot   \n",
      "1399       5  15-Jul-18                   Black  Spot   \n",
      "1544       5  30-Jul-18                   Black  Show   \n",
      "1692       5  28-Jul-18                   Black  Show   \n",
      "2012       3  20-Jul-18                   Black  Plus   \n",
      "2044       5  14-Jul-18                   Black  Plus   \n",
      "2253       5  30-Jul-18  Configuration: Fire TV Stick   \n",
      "2274       5  30-Jul-18  Configuration: Fire TV Stick   \n",
      "2314       1  30-Jul-18  Configuration: Fire TV Stick   \n",
      "2343       5  30-Jul-18  Configuration: Fire TV Stick   \n",
      "2345       4  30-Jul-18  Configuration: Fire TV Stick   \n",
      "2436       5  30-Jul-18  Configuration: Fire TV Stick   \n",
      "2678       4  30-Jul-18                    Black  Dot   \n",
      "3029       4  30-Jul-18                    Black  Dot   \n",
      "\n",
      "                                       verified_reviews  feedback  \n",
      "49    No different than Apple. To play a specific li...         1  \n",
      "60                                                    😍         1  \n",
      "134                                  So far I like it 🤓         1  \n",
      "229   Best thing I've invested in in a while thank y...         1  \n",
      "447   Works perfect no wear and tear on the device I...         1  \n",
      "541   Well I’m a big fan of echoes these ones went I...         1  \n",
      "681   Seems to have trouble hearing me when I say th...         1  \n",
      "744   No different than Apple. To play a specific li...         1  \n",
      "755                                                   😍         1  \n",
      "829                                  So far I like it 🤓         1  \n",
      "924   Best thing I've invested in in a while thank y...         1  \n",
      "1101  It was a gift and the recipient love love love...         1  \n",
      "1160  This is our first step into a smart home. Soon...         1  \n",
      "1237  I am a small business owner with no staff. Wit...         1  \n",
      "1238  Bedroom clock , ask questions,  weather report...         1  \n",
      "1351  The echo spot is really great. I just got it a...         1  \n",
      "1399  I’m not sure why or how Amazonia asking me abo...         1  \n",
      "1544  Love it! Easy setup and I can ‘Drop in’ on my ...         1  \n",
      "1692                                                 👍🏻         1  \n",
      "2012  I was suppose to get the “free” lightbulb with...         1  \n",
      "2044         Love, Love, Love my Amazon Echo Plus!!❤️❤️         1  \n",
      "2253                                              ⭐⭐⭐⭐⭐         1  \n",
      "2274  My 90 year old Mom LOVES that she can watch th...         1  \n",
      "2314  Ordered 2 on deal day. 1 doesn’t work and 2 nd...         0  \n",
      "2343  This is my 2nd fire TV stick with Alexa I have...         1  \n",
      "2345  It offers hours of entertainment and it was ve...         1  \n",
      "2436                                                 😄😄         1  \n",
      "2678  Alexa is perfect for people like me living alo...         1  \n",
      "3029  Alexa is perfect for people like me living alo...         1  \n"
     ]
    }
   ],
   "source": [
    "import re\n",
    "# Define a regex pattern that matches emojis\n",
    "emoji_pattern = re.compile(\"[\"\n",
    "    u\"\\U0001F600-\\U0001F64F\"  # emoticons\n",
    "    u\"\\U0001F300-\\U0001F5FF\"  # symbols & pictographs\n",
    "    u\"\\U0001F680-\\U0001F6FF\"  # transport & map symbols\n",
    "    u\"\\U0001F700-\\U0001F77F\"  # alchemical symbols\n",
    "    u\"\\U0001F780-\\U0001F7FF\"  # geometric shapes\n",
    "    u\"\\U0001F800-\\U0001F8FF\"  # supplemental arrows\n",
    "    u\"\\U0001F900-\\U0001F9FF\"  # supplemental symbols & pictographs\n",
    "    u\"\\U0001FA00-\\U0001FA6F\"  # chess symbols\n",
    "    u\"\\U0001FA70-\\U0001FAFF\"  # supplemental pictographs\n",
    "    u\"\\U00002700-\\U000027BF\"  # Dingbats\n",
    "    u\"\\U0001F1E0-\\U0001F1FF\"  # Flags\n",
    "    u\"\\U00000280-\\U0000029F\"  # Braille Patterns (sometimes present in encoded text)\n",
    "    u\"\\U00002500-\\U0000257F\"  # Box Drawing (lines and shapes)\n",
    "    u\"\\U0001F910-\\U0001F91F\"  # Supplemental Symbols and pictographs (hand gestures)\n",
    "    u\"\\U0001F600-\\U0001F64F\"  # Additional emoticons (for newer emojis)\n",
    "    u\"\\U0001FA70-\\U0001FAFF\"  # Symbols and pictographs\n",
    "    u\"\\U0001F6C0-\\U0001F6FF\"  # Transport and map symbols\n",
    "    u\"\\U00002B50-\\U00002B55\"  # Additional symbols (stars, etc.)\n",
    "    u\"\\U00002600-\\U000027BF\"  # Miscellaneous Symbols\n",
    "   \"]+\", flags=re.UNICODE)\n",
    "\n",
    "# Identify entries containing emojis\n",
    "emoji_entries = df[df['verified_reviews'].str.contains(emoji_pattern, na=False)]\n",
    "\n",
    "# Count the number of entries with emojis\n",
    "emoji_count = len(emoji_entries)\n",
    "\n",
    "# Display the count and a few examples of entries with emojis\n",
    "print(f\"Number of entries containing emojis: {emoji_count}\")\n",
    "pprint(emoji_entries)"
   ]
  },
  {
   "cell_type": "markdown",
   "metadata": {},
   "source": [
    "### Cleaning Non-ASCII Characters While Keeping Emojis"
   ]
  },
  {
   "cell_type": "code",
   "execution_count": 15,
   "metadata": {},
   "outputs": [
    {
     "name": "stdout",
     "output_type": "stream",
     "text": [
      "0                                        Love my Echo!\n",
      "1                                            Loved it!\n",
      "2    Sometimes while playing a game, you can answer...\n",
      "3    I have had a lot of fun with this thing. My 4 ...\n",
      "4                                                Music\n",
      "Name: verified_reviews, dtype: object\n"
     ]
    }
   ],
   "source": [
    "import ftfy\n",
    "# Function to clean non-ASCII characters while keeping emojis\n",
    "def clean_non_ascii_keep_emojis(text):\n",
    "    if pd.notnull(text):\n",
    "        # Step 1: Keep emojis and remove non-ASCII characters using the regex\n",
    "        emojis = emoji_pattern.findall(text)\n",
    "        \n",
    "        # Step 2: Fix encoding issues in the text using ftfy\n",
    "        cleaned_text = ftfy.fix_text(text)\n",
    "        \n",
    "        # Step 3: Remove non-ASCII characters (excluding emojis)\n",
    "        cleaned_text_no_nonascii = re.sub(r'[^\\x00-\\x7F]+', '', cleaned_text)\n",
    "        \n",
    "        # Step 4: Re-add emojis at the end if they were removed\n",
    "        return cleaned_text_no_nonascii + ' ' + ''.join(emojis) if emojis else cleaned_text_no_nonascii\n",
    "    return text\n",
    "\n",
    "# Apply the cleaning function to the 'verified_reviews' column\n",
    "df['verified_reviews'] = df['verified_reviews'].apply(clean_non_ascii_keep_emojis)\n",
    "\n",
    "# Display cleaned entries\n",
    "print(df['verified_reviews'].head())"
   ]
  },
  {
   "cell_type": "code",
   "execution_count": 16,
   "metadata": {},
   "outputs": [
    {
     "name": "stdout",
     "output_type": "stream",
     "text": [
      "Number of non-ascii entries: 29\n"
     ]
    },
    {
     "data": {
      "text/plain": [
       "(3070, 5)"
      ]
     },
     "execution_count": 16,
     "metadata": {},
     "output_type": "execute_result"
    }
   ],
   "source": [
    "non_ascii_count = df['verified_reviews'].str.contains(r'[^\\x00-\\x7F]', na=False).sum()\n",
    "print(f\"Number of non-ascii entries: {non_ascii_count}\")\n",
    "\n",
    "df.shape"
   ]
  },
  {
   "cell_type": "code",
   "execution_count": 17,
   "metadata": {},
   "outputs": [
    {
     "name": "stdout",
     "output_type": "stream",
     "text": [
      "Percentage of reviews containing emojis: 0.94%\n",
      "Number of reviews containing emojis: 29\n"
     ]
    }
   ],
   "source": [
    "import re\n",
    "\n",
    "# Identify reviews containing emojis\n",
    "emoji_entries = df[df['verified_reviews'].str.contains(emoji_pattern, na=False)]\n",
    "\n",
    "# Calculate the percentage of reviews containing emojis\n",
    "emoji_percentage = len(emoji_entries) / len(df) * 100\n",
    "print(f\"Percentage of reviews containing emojis: {emoji_percentage:.2f}%\")\n",
    "\n",
    "# Check how many reviews contain emojis\n",
    "print(f\"Number of reviews containing emojis: {len(emoji_entries)}\")\n"
   ]
  },
  {
   "cell_type": "markdown",
   "metadata": {},
   "source": [
    "Even though the percentage of emoji usage is low, emojis can still carry strong emotional cues (like \"😍\" indicating positive sentiment or \"😒\" indicating negative sentiment). These cues are important in interpreting feedback, especially in cases where the text alone might not fully convey the sentiment (e.g., sarcasm or humor).\n",
    "\n",
    "Given this, converting emojis to text descriptions could still be helpful for sentiment interpretation, even though they are infrequent. By converting them, you're making the emotional intent of the review more explicit, which could help the model better understand the feedback."
   ]
  },
  {
   "cell_type": "markdown",
   "metadata": {},
   "source": [
    "### Converting Emojis to Text Descriptions"
   ]
  },
  {
   "cell_type": "code",
   "execution_count": 18,
   "metadata": {},
   "outputs": [],
   "source": [
    "import emoji\n",
    "\n",
    "# Convert emojis to their textual descriptions\n",
    "def convert_emoji_to_text(text):\n",
    "    if isinstance(text, str):  # Only process if the input is a string\n",
    "        return emoji.demojize(text)\n",
    "    return text  # Return the original value if it's not a string"
   ]
  },
  {
   "cell_type": "code",
   "execution_count": 19,
   "metadata": {},
   "outputs": [
    {
     "data": {
      "text/plain": [
       "0                                           Love my Echo!\n",
       "1                                               Loved it!\n",
       "2       Sometimes while playing a game, you can answer...\n",
       "3       I have had a lot of fun with this thing. My 4 ...\n",
       "4                                                   Music\n",
       "                              ...                        \n",
       "3145    Perfect for kids, adults and everyone in betwe...\n",
       "3146    Listening to music, searching locations, check...\n",
       "3147    I do love these things, i have them running my...\n",
       "3148    Only complaint I have is that the sound qualit...\n",
       "3149                                                 Good\n",
       "Name: verified_reviews, Length: 3070, dtype: object"
      ]
     },
     "execution_count": 19,
     "metadata": {},
     "output_type": "execute_result"
    }
   ],
   "source": [
    "# Example: Apply to the 'verified_reviews' column\n",
    "df['verified_reviews'] = df['verified_reviews'].apply(lambda x: convert_emoji_to_text(x))\n",
    "\n",
    "# Check a few entries\n",
    "df['verified_reviews']\n"
   ]
  },
  {
   "cell_type": "code",
   "execution_count": 20,
   "metadata": {},
   "outputs": [
    {
     "name": "stdout",
     "output_type": "stream",
     "text": [
      "Number of non-ascii entries: 0\n",
      "0                                        Love my Echo!\n",
      "1                                            Loved it!\n",
      "2    Sometimes while playing a game, you can answer...\n",
      "3    I have had a lot of fun with this thing. My 4 ...\n",
      "4                                                Music\n",
      "Name: verified_reviews, dtype: object\n"
     ]
    }
   ],
   "source": [
    "non_ascii_count = df['verified_reviews'].str.contains(r'[^\\x00-\\x7F]', na=False).sum()\n",
    "print(f\"Number of non-ascii entries: {non_ascii_count}\")\n",
    "\n",
    "ver_review=df['verified_reviews'].head()\n",
    "\n",
    "pprint(ver_review)"
   ]
  },
  {
   "cell_type": "markdown",
   "metadata": {},
   "source": [
    "### Splitting Data into Training and Testing Sets"
   ]
  },
  {
   "cell_type": "markdown",
   "metadata": {},
   "source": [
    "In this step, we extract the relevant columns containing the reviews and feedback (labels), and split the data into training and test sets using an 80-20 split. \n",
    "The training set will be used to fit the model, while the test set will be used for evaluation.\n",
    "We also check the distribution of feedback labels to understand the balance between positive and negative reviews."
   ]
  },
  {
   "cell_type": "code",
   "execution_count": 21,
   "metadata": {},
   "outputs": [
    {
     "name": "stdout",
     "output_type": "stream",
     "text": [
      "Training set: 2456 texts, 2456 labels\n",
      "Validation set: 307 texts, 307 labels\n",
      "Test set: 307 texts, 307 labels\n"
     ]
    }
   ],
   "source": [
    "from sklearn.model_selection import train_test_split\n",
    "\n",
    "# Split the data into training and testing sets (80% train, 20% test)\n",
    "train_data, test_data = train_test_split(df, test_size=0.2, random_state=42)\n",
    "\n",
    "# Further split the test data into validation (10%) and test sets (10%)\n",
    "val_data, test_data = train_test_split(test_data, test_size=0.5, random_state=42)\n",
    "\n",
    "# Extract texts and labels for training, validation, and test sets\n",
    "train_texts = [str(text) for text in train_data['verified_reviews'] if isinstance(text, str)]\n",
    "val_texts = [str(text) for text in val_data['verified_reviews'] if isinstance(text, str)]\n",
    "test_texts = [str(text) for text in test_data['verified_reviews'] if isinstance(text, str)]\n",
    "\n",
    "# Extract labels (feedback) for training, validation, and test sets\n",
    "train_labels = train_data['feedback'].tolist()\n",
    "val_labels = val_data['feedback'].tolist()\n",
    "test_labels = test_data['feedback'].tolist()\n",
    "\n",
    "# Check sizes to ensure labels and texts match\n",
    "print(f\"Training set: {len(train_texts)} texts, {len(train_labels)} labels\")\n",
    "print(f\"Validation set: {len(val_texts)} texts, {len(val_labels)} labels\")\n",
    "print(f\"Test set: {len(test_texts)} texts, {len(test_labels)} labels\")\n"
   ]
  },
  {
   "cell_type": "markdown",
   "metadata": {},
   "source": [
    "## Step 3: Tokenization with BERT"
   ]
  },
  {
   "cell_type": "code",
   "execution_count": 22,
   "metadata": {},
   "outputs": [
    {
     "name": "stderr",
     "output_type": "stream",
     "text": [
      "Token indices sequence length is longer than the specified maximum sequence length for this model (637 > 512). Running this sequence through the model will result in indexing errors\n"
     ]
    },
    {
     "name": "stdout",
     "output_type": "stream",
     "text": [
      "Mean token length: 33.62907166123779\n",
      "Max token length: 637\n",
      "Min token length: 3\n"
     ]
    },
    {
     "data": {
      "image/png": "[encoded data removed]",
      "text/plain": [
       "<Figure size 640x480 with 1 Axes>"
      ]
     },
     "metadata": {},
     "output_type": "display_data"
    }
   ],
   "source": [
    "from transformers import BertTokenizer\n",
    "\n",
    "tokenizer = BertTokenizer.from_pretrained('bert-base-uncased')\n",
    "\n",
    "# Clean the text to ensure all values are strings\n",
    "train_texts = [str(text) for text in train_data['verified_reviews'] if isinstance(text, str)]\n",
    "val_texts = [str(text) for text in val_data['verified_reviews'] if isinstance(text, str)]\n",
    "test_texts = [str(text) for text in test_data['verified_reviews'] if isinstance(text, str)]\n",
    "\n",
    "# Tokenize without padding and truncation, and do not return tensors\n",
    "def tokenize_and_get_lengths(texts):\n",
    "    tokenized_outputs = tokenizer(\n",
    "        texts,\n",
    "        padding=False,        # Do not pad the sequences\n",
    "        truncation=False,     # Do not truncate the sequences\n",
    "        return_tensors=None,  # Do not return tensors; we only need raw token lengths\n",
    "        max_length=None       # Allow sequences to take their natural length\n",
    "    )\n",
    "    return [len(tokens) for tokens in tokenized_outputs['input_ids']]\n",
    "\n",
    "# Get the token lengths for the training set\n",
    "train_lengths = tokenize_and_get_lengths(train_texts)\n",
    "\n",
    "# Check the statistics (e.g., mean, max, min) of token lengths\n",
    "import numpy as np\n",
    "print(f\"Mean token length: {np.mean(train_lengths)}\")\n",
    "print(f\"Max token length: {np.max(train_lengths)}\")\n",
    "print(f\"Min token length: {np.min(train_lengths)}\")\n",
    "\n",
    "# Optionally, plot the distribution of token lengths\n",
    "import matplotlib.pyplot as plt\n",
    "\n",
    "plt.hist(train_lengths, bins=20, edgecolor='black')\n",
    "plt.title('Distribution of Token Lengths in Training Set')\n",
    "plt.xlabel('Token Length')\n",
    "plt.ylabel('Number of Reviews')\n",
    "plt.show()\n"
   ]
  },
  {
   "cell_type": "code",
   "execution_count": 24,
   "metadata": {},
   "outputs": [
    {
     "name": "stdout",
     "output_type": "stream",
     "text": [
      "Number of tokenized inputs: 2454\n",
      "Number of labels: 2454\n"
     ]
    }
   ],
   "source": [
    "# Set max_length based on analysis (e.g., 100 or 128)\n",
    "max_length = 100  # Adjust this if needed\n",
    "\n",
    "# Identify reviews longer than 512 tokens\n",
    "def tokenize_and_get_lengths(texts):\n",
    "    tokenized_outputs = tokenizer(\n",
    "        texts,\n",
    "        padding=False,\n",
    "        truncation=False,\n",
    "        return_tensors=None,\n",
    "        max_length=None\n",
    "    )\n",
    "    return [len(tokens) for tokens in tokenized_outputs['input_ids']]\n",
    "\n",
    "# Get token lengths for the training set\n",
    "train_lengths = tokenize_and_get_lengths(train_texts)\n",
    "\n",
    "# Filter out reviews longer than 512 tokens and their corresponding labels\n",
    "filtered_data = [(text, label) for text, length, label in zip(train_texts, train_lengths, train_labels) if length <= 512]\n",
    "\n",
    "# Separate the filtered texts and labels\n",
    "train_data_filtered, train_labels_filtered = zip(*filtered_data)\n",
    "\n",
    "# Proceed with tokenization using max_length = 100 for the filtered data\n",
    "train_encodings = tokenizer(\n",
    "    list(train_data_filtered),  # Convert back to a list\n",
    "    padding=True,\n",
    "    truncation=True,\n",
    "    return_tensors='pt',\n",
    "    max_length=max_length\n",
    ")\n",
    "\n",
    "val_encodings = tokenizer(\n",
    "    val_texts,\n",
    "    padding=True,\n",
    "    truncation=True,\n",
    "    return_tensors='pt',\n",
    "    max_length=max_length\n",
    ")\n",
    "\n",
    "test_encodings = tokenizer(\n",
    "    test_texts,\n",
    "    padding=True,\n",
    "    truncation=True,\n",
    "    return_tensors='pt',\n",
    "    max_length=max_length\n",
    ")\n",
    "\n",
    "# Check if the number of tokenized inputs matches the number of filtered labels\n",
    "print(f\"Number of tokenized inputs: {len(train_encodings['input_ids'])}\")\n",
    "print(f\"Number of labels: {len(train_labels_filtered)}\")\n"
   ]
  },
  {
   "cell_type": "markdown",
   "metadata": {},
   "source": [
    "## Step 4: Fine-Tuning BERT for Sentiment Analysis"
   ]
  },
  {
   "cell_type": "markdown",
   "metadata": {},
   "source": [
    "### Load Pre-Trained BERT Model"
   ]
  },
  {
   "cell_type": "code",
   "execution_count": 25,
   "metadata": {},
   "outputs": [
    {
     "name": "stderr",
     "output_type": "stream",
     "text": [
      "Some weights of BertForSequenceClassification were not initialized from the model checkpoint at bert-base-uncased and are newly initialized: ['classifier.bias', 'classifier.weight']\n",
      "You should probably TRAIN this model on a down-stream task to be able to use it for predictions and inference.\n"
     ]
    },
    {
     "name": "stdout",
     "output_type": "stream",
     "text": [
      "Using device: cpu\n"
     ]
    },
    {
     "data": {
      "text/plain": [
       "BertForSequenceClassification(\n",
       "  (bert): BertModel(\n",
       "    (embeddings): BertEmbeddings(\n",
       "      (word_embeddings): Embedding(30522, 768, padding_idx=0)\n",
       "      (position_embeddings): Embedding(512, 768)\n",
       "      (token_type_embeddings): Embedding(2, 768)\n",
       "      (LayerNorm): LayerNorm((768,), eps=1e-12, elementwise_affine=True)\n",
       "      (dropout): Dropout(p=0.1, inplace=False)\n",
       "    )\n",
       "    (encoder): BertEncoder(\n",
       "      (layer): ModuleList(\n",
       "        (0-11): 12 x BertLayer(\n",
       "          (attention): BertAttention(\n",
       "            (self): BertSdpaSelfAttention(\n",
       "              (query): Linear(in_features=768, out_features=768, bias=True)\n",
       "              (key): Linear(in_features=768, out_features=768, bias=True)\n",
       "              (value): Linear(in_features=768, out_features=768, bias=True)\n",
       "              (dropout): Dropout(p=0.1, inplace=False)\n",
       "            )\n",
       "            (output): BertSelfOutput(\n",
       "              (dense): Linear(in_features=768, out_features=768, bias=True)\n",
       "              (LayerNorm): LayerNorm((768,), eps=1e-12, elementwise_affine=True)\n",
       "              (dropout): Dropout(p=0.1, inplace=False)\n",
       "            )\n",
       "          )\n",
       "          (intermediate): BertIntermediate(\n",
       "            (dense): Linear(in_features=768, out_features=3072, bias=True)\n",
       "            (intermediate_act_fn): GELUActivation()\n",
       "          )\n",
       "          (output): BertOutput(\n",
       "            (dense): Linear(in_features=3072, out_features=768, bias=True)\n",
       "            (LayerNorm): LayerNorm((768,), eps=1e-12, elementwise_affine=True)\n",
       "            (dropout): Dropout(p=0.1, inplace=False)\n",
       "          )\n",
       "        )\n",
       "      )\n",
       "    )\n",
       "    (pooler): BertPooler(\n",
       "      (dense): Linear(in_features=768, out_features=768, bias=True)\n",
       "      (activation): Tanh()\n",
       "    )\n",
       "  )\n",
       "  (dropout): Dropout(p=0.1, inplace=False)\n",
       "  (classifier): Linear(in_features=768, out_features=2, bias=True)\n",
       ")"
      ]
     },
     "execution_count": 25,
     "metadata": {},
     "output_type": "execute_result"
    }
   ],
   "source": [
    "import torch\n",
    "from transformers import BertForSequenceClassification\n",
    "from torch.optim import AdamW\n",
    "import pandas as pd  # For checking missing values\n",
    "\n",
    "# Load pre-trained BERT model for binary classification\n",
    "model = BertForSequenceClassification.from_pretrained('bert-base-uncased', num_labels=2)\n",
    "\n",
    "# Move model to GPU if available\n",
    "device = torch.device(\"cuda\" if torch.cuda.is_available() else \"cpu\")\n",
    "print(f\"Using device: {device}\")\n",
    "model.to(device)\n"
   ]
  },
  {
   "cell_type": "markdown",
   "metadata": {},
   "source": [
    "### Prepare Data (Already Tokenized in Step 3)"
   ]
  },
  {
   "cell_type": "code",
   "execution_count": 26,
   "metadata": {},
   "outputs": [
    {
     "name": "stdout",
     "output_type": "stream",
     "text": [
      "Number of tokenized inputs: 2454\n",
      "Number of labels (filtered): 2454\n"
     ]
    }
   ],
   "source": [
    "\n",
    "# PyTorch Dataset class to handle tokenized encodings and labels\n",
    "class ReviewDataset(torch.utils.data.Dataset):\n",
    "    def __init__(self, encodings, labels):\n",
    "        self.encodings = encodings\n",
    "        self.labels = labels\n",
    "\n",
    "    def __len__(self):\n",
    "        return len(self.labels)  # Ensure this matches the number of tokenized inputs\n",
    "\n",
    "    def __getitem__(self, idx):\n",
    "        if idx >= len(self.labels):  # Protect against out-of-bound access\n",
    "            raise IndexError(f\"Index {idx} is out of bounds with size {len(self.labels)}\")\n",
    "        \n",
    "        # Return the tokenized inputs and the labels at index `idx`\n",
    "        item = {key: val[idx].clone().detach() for key, val in self.encodings.items()}\n",
    "        item['labels'] = torch.tensor(self.labels[idx], dtype=torch.long)\n",
    "        return item\n",
    "\n",
    "\n",
    "# Ensure filtered labels are used for the training dataset\n",
    "train_dataset = ReviewDataset(train_encodings, list(train_labels_filtered))  # Use filtered labels\n",
    "test_dataset = ReviewDataset(test_encodings, test_labels)  # No filtering for test\n",
    "\n",
    "train_loader = torch.utils.data.DataLoader(train_dataset, batch_size=16, shuffle=True)\n",
    "test_loader = torch.utils.data.DataLoader(test_dataset, batch_size=16, shuffle=False)\n",
    "\n",
    "# Check if the number of tokenized inputs matches the number of filtered labels\n",
    "print(f\"Number of tokenized inputs: {len(train_encodings['input_ids'])}\")\n",
    "print(f\"Number of labels (filtered): {len(train_labels_filtered)}\")\n"
   ]
  },
  {
   "cell_type": "markdown",
   "metadata": {},
   "source": [
    "### Calculate class weights"
   ]
  },
  {
   "cell_type": "code",
   "execution_count": 32,
   "metadata": {},
   "outputs": [],
   "source": [
    "import numpy as np\n",
    "from sklearn.utils.class_weight import compute_class_weight\n",
    "\n",
    "# Convert the class labels to a numpy array\n",
    "classes = np.array([0, 1])\n",
    "\n",
    "# Calculate class weights\n",
    "class_weights = compute_class_weight(class_weight='balanced', classes=classes, y=train_labels)\n",
    "\n",
    "# Convert class weights to a tensor and move to device (GPU or CPU)\n",
    "class_weights = torch.tensor(class_weights, dtype=torch.float).to(device)\n",
    "\n"
   ]
  },
  {
   "cell_type": "markdown",
   "metadata": {},
   "source": [
    "### Set Up the Optimizer"
   ]
  },
  {
   "cell_type": "code",
   "execution_count": 33,
   "metadata": {},
   "outputs": [],
   "source": [
    "from torch.optim import AdamW\n",
    "\n",
    "# Define the optimizer with learning rate and weight decay\n",
    "optimizer = AdamW(model.parameters(), lr=5e-5, weight_decay=0.01)\n"
   ]
  },
  {
   "cell_type": "markdown",
   "metadata": {},
   "source": [
    "## Step 5: Training the Model"
   ]
  },
  {
   "cell_type": "code",
   "execution_count": 36,
   "metadata": {},
   "outputs": [
    {
     "name": "stdout",
     "output_type": "stream",
     "text": [
      "Epoch 1/3\n"
     ]
    },
    {
     "name": "stderr",
     "output_type": "stream",
     "text": [
      "100%|██████████| 154/154 [09:34<00:00,  3.73s/it]\n"
     ]
    },
    {
     "name": "stdout",
     "output_type": "stream",
     "text": [
      "Average training loss with class weighting: 0.2492\n",
      "Epoch 2/3\n"
     ]
    },
    {
     "name": "stderr",
     "output_type": "stream",
     "text": [
      "100%|██████████| 154/154 [10:15<00:00,  3.99s/it]\n"
     ]
    },
    {
     "name": "stdout",
     "output_type": "stream",
     "text": [
      "Average training loss with class weighting: 0.1057\n",
      "Epoch 3/3\n"
     ]
    },
    {
     "name": "stderr",
     "output_type": "stream",
     "text": [
      "100%|██████████| 154/154 [10:11<00:00,  3.97s/it]"
     ]
    },
    {
     "name": "stdout",
     "output_type": "stream",
     "text": [
      "Average training loss with class weighting: 0.0561\n"
     ]
    },
    {
     "name": "stderr",
     "output_type": "stream",
     "text": [
      "\n"
     ]
    }
   ],
   "source": [
    "from tqdm import tqdm  # For progress bar during training\n",
    "\n",
    "def train(model, train_loader, optimizer, device, class_weights):\n",
    "    model.train()  # Set the model to training mode\n",
    "    total_loss = 0\n",
    "    \n",
    "    for batch in tqdm(train_loader):\n",
    "        # Move inputs and labels to device (GPU or CPU)\n",
    "        input_ids = batch['input_ids'].to(device)\n",
    "        attention_mask = batch['attention_mask'].to(device)\n",
    "        labels = batch['labels'].to(device)\n",
    "        \n",
    "        # Forward pass to get model outputs and calculate loss\n",
    "        outputs = model(input_ids, attention_mask=attention_mask, labels=labels)\n",
    "        loss = outputs.loss\n",
    "\n",
    "        # Apply class weights to the loss\n",
    "        weighted_loss = loss * class_weights[labels]\n",
    "        loss = weighted_loss.mean()  # Compute average loss\n",
    "\n",
    "        # Backward pass and optimization\n",
    "        optimizer.zero_grad()  # Clear previous gradients\n",
    "        loss.backward()        # Backpropagation\n",
    "        optimizer.step()       # Update model parameters\n",
    "\n",
    "        total_loss += loss.item()\n",
    "\n",
    "    avg_loss = total_loss / len(train_loader)\n",
    "    print(f\"Average training loss with class weighting: {avg_loss:.4f}\")\n",
    "\n",
    "# Fine-tune for a few epochs\n",
    "num_epochs = 3\n",
    "for epoch in range(num_epochs):\n",
    "    print(f\"Epoch {epoch+1}/{num_epochs}\")\n",
    "    train(model, train_loader, optimizer, device, class_weights)\n"
   ]
  },
  {
   "cell_type": "markdown",
   "metadata": {},
   "source": [
    "## Step 6: Evaluating the model "
   ]
  },
  {
   "cell_type": "code",
   "execution_count": 37,
   "metadata": {},
   "outputs": [
    {
     "name": "stdout",
     "output_type": "stream",
     "text": [
      "Accuracy: 0.9577\n",
      "F1 Score: 0.9775\n"
     ]
    }
   ],
   "source": [
    "from sklearn.metrics import accuracy_score, f1_score\n",
    "\n",
    "def evaluate(model, test_loader, device):\n",
    "    model.eval()  # Set model to evaluation mode\n",
    "    all_preds = []\n",
    "    all_labels = []\n",
    "\n",
    "    with torch.no_grad():  # Disable gradient calculation for evaluation\n",
    "        for batch in test_loader:\n",
    "            # Move inputs to device\n",
    "            input_ids = batch['input_ids'].to(device)\n",
    "            attention_mask = batch['attention_mask'].to(device)\n",
    "            labels = batch['labels'].to(device)\n",
    "\n",
    "            # Forward pass to get predictions\n",
    "            outputs = model(input_ids, attention_mask=attention_mask)\n",
    "            logits = outputs.logits\n",
    "            predictions = torch.argmax(logits, dim=-1)\n",
    "\n",
    "            all_preds.extend(predictions.cpu().numpy())\n",
    "            all_labels.extend(labels.cpu().numpy())\n",
    "\n",
    "    # Calculate accuracy and F1 score\n",
    "    accuracy = accuracy_score(all_labels, all_preds)\n",
    "    f1 = f1_score(all_labels, all_preds)\n",
    "\n",
    "    print(f\"Accuracy: {accuracy:.4f}\")\n",
    "    print(f\"F1 Score: {f1:.4f}\")\n",
    "\n",
    "# Evaluate the model on the test set\n",
    "evaluate(model, test_loader, device)\n"
   ]
  },
  {
   "cell_type": "code",
   "execution_count": 38,
   "metadata": {},
   "outputs": [
    {
     "data": {
      "image/png": "[encoded data removed]",
      "text/plain": [
       "<Figure size 640x480 with 2 Axes>"
      ]
     },
     "metadata": {},
     "output_type": "display_data"
    }
   ],
   "source": [
    "from sklearn.metrics import confusion_matrix, ConfusionMatrixDisplay\n",
    "import matplotlib.pyplot as plt\n",
    "\n",
    "def plot_confusion_matrix(model, test_loader, device):\n",
    "    model.eval()  # Set model to evaluation mode\n",
    "    all_preds = []\n",
    "    all_labels = []\n",
    "\n",
    "    with torch.no_grad():  # Disable gradient calculation for evaluation\n",
    "        for batch in test_loader:\n",
    "            # Move inputs to device\n",
    "            input_ids = batch['input_ids'].to(device)\n",
    "            attention_mask = batch['attention_mask'].to(device)\n",
    "            labels = batch['labels'].to(device)\n",
    "\n",
    "            # Forward pass to get predictions\n",
    "            outputs = model(input_ids, attention_mask=attention_mask)\n",
    "            logits = outputs.logits\n",
    "            predictions = torch.argmax(logits, dim=-1)\n",
    "\n",
    "            all_preds.extend(predictions.cpu().numpy())\n",
    "            all_labels.extend(labels.cpu().numpy())\n",
    "\n",
    "    # Compute confusion matrix\n",
    "    cm = confusion_matrix(all_labels, all_preds)\n",
    "    \n",
    "    # Display the confusion matrix\n",
    "    disp = ConfusionMatrixDisplay(confusion_matrix=cm)\n",
    "    disp.plot(cmap=plt.cm.Blues)\n",
    "    plt.show()\n",
    "\n",
    "# Plot the confusion matrix\n",
    "plot_confusion_matrix(model, test_loader, device)\n"
   ]
  },
  {
   "cell_type": "code",
   "execution_count": 39,
   "metadata": {},
   "outputs": [],
   "source": [
    "# Save the trained model\n",
    "model.save_pretrained('./bert_sentiment_model_v1')\n"
   ]
  },
  {
   "cell_type": "code",
   "execution_count": 40,
   "metadata": {},
   "outputs": [
    {
     "data": {
      "text/plain": [
       "('./bert_sentiment_tokeniser_v1\\\\tokenizer_config.json',\n",
       " './bert_sentiment_tokeniser_v1\\\\special_tokens_map.json',\n",
       " './bert_sentiment_tokeniser_v1\\\\vocab.txt',\n",
       " './bert_sentiment_tokeniser_v1\\\\added_tokens.json')"
      ]
     },
     "execution_count": 40,
     "metadata": {},
     "output_type": "execute_result"
    }
   ],
   "source": [
    "tokenizer.save_pretrained('./bert_sentiment_tokeniser_v1')"
   ]
  },
  {
   "cell_type": "code",
   "execution_count": 43,
   "metadata": {},
   "outputs": [
    {
     "name": "stdout",
     "output_type": "stream",
     "text": [
      "Text: \"I love this product!\"\n",
      "Predicted sentiment: positive\n",
      "\n",
      "Text: \"This is awesome\"\n",
      "Predicted sentiment: positive\n",
      "\n",
      "Text: \"Not happy with the product.\"\n",
      "Predicted sentiment: positive\n",
      "\n",
      "Text: \"Not happy with it.\"\n",
      "Predicted sentiment: negative\n",
      "\n",
      "Text: \"Not happy with the service.\"\n",
      "Predicted sentiment: positive\n",
      "\n",
      "Text: \"This is not what I expected.\"\n",
      "Predicted sentiment: negative\n",
      "\n",
      "Text: \"Not happy with the color.\"\n",
      "Predicted sentiment: positive\n",
      "\n",
      "Text: \"Not happy with service but product is good\"\n",
      "Predicted sentiment: positive\n",
      "\n",
      "Text: \"The product is great, but the packaging was terrible.\"\n",
      "Predicted sentiment: negative\n",
      "\n",
      "Text: \"I loved the features, but it's way too expensive.\"\n",
      "Predicted sentiment: positive\n",
      "\n",
      "Text: \"This product is lit! :fire:\"\n",
      "Predicted sentiment: positive\n",
      "\n",
      "Text: \"It's dope, can't get enough of it.\"\n",
      "Predicted sentiment: positive\n",
      "\n",
      "Text: \"This is  :fire:\"\n",
      "Predicted sentiment: positive\n",
      "\n",
      "Text: \"This is GOAT:goat:\"\n",
      "Predicted sentiment: positive\n",
      "\n",
      "Text: \"I feel its damn good\"\n",
      "Predicted sentiment: positive\n",
      "\n",
      "Text: \"bad boy song is sounding dope on this :thumbs_up:\"\n",
      "Predicted sentiment: positive\n",
      "\n",
      "Text: \"bad boy song is sounding like samsh hit on this\"\n",
      "Predicted sentiment: positive\n",
      "\n",
      "Text: \"The product arrived on time.\"\n",
      "Predicted sentiment: positive\n",
      "\n",
      "Text: \"It's just okay, nothing special.Yeah, because everyone loves waiting 2 weeks for a delivery...\"\n",
      "Predicted sentiment: positive\n",
      "\n",
      "Text: \"What a innovative product..Thank you amazon for such a good product which doesnt work.\"\n",
      "Predicted sentiment: positive\n",
      "\n"
     ]
    }
   ],
   "source": [
    "import emoji\n",
    "import torch\n",
    "from transformers import BertForSequenceClassification, BertTokenizer\n",
    "\n",
    "# Load the saved model\n",
    "model = BertForSequenceClassification.from_pretrained('./bert_sentiment_model_v1')\n",
    "model.eval()\n",
    "\n",
    "# Load the saved tokenizer\n",
    "tokenizer = BertTokenizer.from_pretrained('./bert_sentiment_tokeniser_v1')\n",
    "\n",
    "# Tokenize new input data\n",
    "new_texts = [\n",
    "    #positive reviews\n",
    "    \"I love this product!\",\n",
    "    \"This is awesome\",\n",
    "    \n",
    "    #negative reviews\n",
    "    \"Not happy with the product.\",\n",
    "    \"Not happy with it.\",\n",
    "\n",
    "    # Negation\n",
    "    \"Not happy with the service.\",  \n",
    "    \"This is not what I expected.\",  \n",
    "    \"Not happy with the color.\",\n",
    "    \"Not happy with service but product is good\",\n",
    "    \n",
    "    # Mixed sentiment\n",
    "    \"The product is great, but the packaging was terrible.\",\n",
    "    \"I loved the features, but it's way too expensive.\",\n",
    "\n",
    "\n",
    "    # Slang and informal\n",
    "    \"This product is lit! 🔥\",  \n",
    "    \"It's dope, can't get enough of it.\",\n",
    "    \"This is  :fire:\",\n",
    "    \"This is GOAT🐐\",\n",
    "    \"I feel its damn good\",\n",
    "    \"bad boy song is sounding dope on this :thumbs_up:\",\n",
    "    \"bad boy song is sounding like samsh hit on this\",\n",
    "    \n",
    "    # Neutral\n",
    "    \"The product arrived on time.\",  \n",
    "    \"It's just okay, nothing special.\"\n",
    "      \n",
    "    # Sarcastic reviews\n",
    "    \"Yeah, because everyone loves waiting 2 weeks for a delivery...\",\n",
    "    \"What a innovative product..Thank you amazon for such a good product which doesnt work.\"\n",
    "]\n",
    "\n",
    "reviews_with_emoji_desc = [emoji.demojize(text) for text in new_texts]\n",
    "new_encodings = tokenizer(reviews_with_emoji_desc, padding=True, truncation=True, return_tensors='pt', max_length=128)\n",
    "\n",
    "# Run the model for inference\n",
    "device = torch.device(\"cuda\" if torch.cuda.is_available() else \"cpu\")\n",
    "model.to(device)\n",
    "new_encodings = {key: val.to(device) for key, val in new_encodings.items()}\n",
    "\n",
    "with torch.no_grad():\n",
    "    outputs = model(**new_encodings)\n",
    "    predictions = torch.argmax(outputs.logits, dim=-1)\n",
    "\n",
    "# Convert predictions to sentiment labels\n",
    "predicted_labels = ['positive' if pred == 1 else 'negative' for pred in predictions]\n",
    "\n",
    "# Display the results\n",
    "for text, label in zip(reviews_with_emoji_desc, predicted_labels):\n",
    "    print(f\"Text: \\\"{text}\\\"\")\n",
    "    print(f\"Predicted sentiment: {label}\")\n",
    "    print()\n"
   ]
  },
  {
   "cell_type": "code",
   "execution_count": 44,
   "metadata": {},
   "outputs": [],
   "source": [
    "# Convert train_texts and train_labels to lists, so they can be modified\n",
    "train_texts = list(train_texts)\n",
    "train_labels = list(train_labels)\n",
    "\n",
    "# Augment the dataset with negation examples\n",
    "negation_sentences = [\n",
    "    \"I am not happy with the service.\",\n",
    "    \"This is not what I expected.\",\n",
    "    \"The product didn’t meet my expectations.\",\n",
    "    \"I don't like this at all.\",\n",
    "    \"The service wasn’t good.\",\n",
    "]\n",
    "\n",
    "# Add these negation examples to your training data\n",
    "train_texts.extend(negation_sentences)\n",
    "train_labels.extend([0] * len(negation_sentences))  # Assign negative labels (0)\n"
   ]
  },
  {
   "cell_type": "code",
   "execution_count": 45,
   "metadata": {},
   "outputs": [],
   "source": [
    "# Augment the dataset with mixed sentiment examples\n",
    "mixed_sentiment_sentences = [\n",
    "    \"The product works well, but the customer support is terrible.\",\n",
    "    \"I loved the design, but the material is cheap.\",\n",
    "    \"Great functionality, but too expensive.\",\n",
    "]\n",
    "\n",
    "# Add these mixed sentiment examples to your training data\n",
    "train_texts.extend(mixed_sentiment_sentences)\n",
    "train_labels.extend([0] * len(mixed_sentiment_sentences))  # Assign negative labels or label as mixed\n"
   ]
  },
  {
   "cell_type": "code",
   "execution_count": 46,
   "metadata": {},
   "outputs": [],
   "source": [
    "# Augment the dataset with slang examples\n",
    "slang_sentences = [\n",
    "    \"This product is dope!\",\n",
    "    \"The new feature is lit!\",\n",
    "    \"That song is fire!\",\n",
    "]\n",
    "\n",
    "# Add these slang examples to your training data\n",
    "train_texts.extend(slang_sentences)\n",
    "train_labels.extend([1] * len(slang_sentences))  # Assign positive labels\n"
   ]
  },
  {
   "cell_type": "code",
   "execution_count": 47,
   "metadata": {},
   "outputs": [],
   "source": [
    "# Convert train_texts and train_labels to lists if they are tuples\n",
    "train_texts = list(train_texts)\n",
    "train_labels = list(train_labels)\n",
    "\n",
    "# Augment the dataset with sarcastic reviews\n",
    "sarcastic_reviews = [\n",
    "    \"Oh wow, this is the best product ever... not!\",  # Positive-sounding, but negative sentiment\n",
    "    \"Just what I needed, a broken item!\",            # Ironic, implying dissatisfaction\n",
    "    \"Yeah, because everyone loves waiting 2 weeks for a delivery...\",  # Sarcastic negative review\n",
    "    \"Oh great, it stopped working after one use. Fantastic.\",  # Sarcasm\n",
    "    \"Sure, this product is amazing if you like wasting money.\",  # Sarcastic and negative\n",
    "    \"Wow, I'm so impressed that it broke the second I touched it.\",  # Sarcasm\n",
    "]\n",
    "\n",
    "# Add these sarcastic examples to your training data\n",
    "train_texts.extend(sarcastic_reviews)\n",
    "train_labels.extend([0] * len(sarcastic_reviews))  # Assign negative labels (0)\n"
   ]
  },
  {
   "cell_type": "code",
   "execution_count": 48,
   "metadata": {},
   "outputs": [],
   "source": [
    "def convert_emojis_to_text(text):\n",
    "    return emoji.demojize(text)"
   ]
  },
  {
   "cell_type": "code",
   "execution_count": 49,
   "metadata": {},
   "outputs": [
    {
     "name": "stdout",
     "output_type": "stream",
     "text": [
      "Added sarcastic reviews with emojis converted to text:\n",
      "Review: Oh wow, this product is amazing... :face_with_tears_of_joy:, Label: 0\n",
      "Review: Love how it broke in one day :face_with_tears_of_joy:, Label: 0\n",
      "Review: Best service ever... not! :smiling_face_with_smiling_eyes:, Label: 0\n",
      "Review: Yeah, because everyone loves a broken item :smiling_face_with_heart-eyes:, Label: 0\n",
      "Review: Just fantastic, it stopped working immediately :grinning_face_with_smiling_eyes:, Label: 0\n",
      "Review: This is the best waste of money I've ever had :smiling_face_with_smiling_eyes:, Label: 0\n",
      "Review: I'm so impressed with how terrible this is :face_with_tears_of_joy:, Label: 0\n"
     ]
    }
   ],
   "source": [
    "sarcastic_reviews_with_positive_emojis = [\n",
    "    \"Oh wow, this product is amazing... 😂\",        # Sarcastic with laughing emoji\n",
    "    \"Love how it broke in one day 😂\",              # Sarcastic with laughing emoji\n",
    "    \"Best service ever... not! 😊\",                 # Sarcastic with smiling emoji\n",
    "    \"Yeah, because everyone loves a broken item 😍\", # Sarcastic with heart-eyes emoji\n",
    "    \"Just fantastic, it stopped working immediately 😄\", # Sarcastic with happy emoji\n",
    "    \"This is the best waste of money I've ever had 😊\", # Sarcastic with smiling emoji\n",
    "    \"I'm so impressed with how terrible this is 😂\", # Sarcastic with laughing emoji\n",
    "]\n",
    "\n",
    "# Convert emojis to their text descriptions\n",
    "sarcastic_reviews_with_converted_emojis = [convert_emojis_to_text(review) for review in sarcastic_reviews_with_positive_emojis]\n",
    "\n",
    "# Add these converted sarcastic examples to your training data\n",
    "train_texts.extend(sarcastic_reviews_with_converted_emojis)\n",
    "train_labels.extend([0] * len(sarcastic_reviews_with_converted_emojis))  # Assign negative labels (0)\n",
    "\n",
    "# Print out the sarcastic examples with converted emojis\n",
    "print(\"Added sarcastic reviews with emojis converted to text:\")\n",
    "for text, label in zip(sarcastic_reviews_with_converted_emojis, [0] * len(sarcastic_reviews_with_converted_emojis)):\n",
    "    print(f\"Review: {text}, Label: {label}\")"
   ]
  },
  {
   "cell_type": "code",
   "execution_count": 54,
   "metadata": {},
   "outputs": [
    {
     "data": {
      "text/plain": [
       "BertForSequenceClassification(\n",
       "  (bert): BertModel(\n",
       "    (embeddings): BertEmbeddings(\n",
       "      (word_embeddings): Embedding(30522, 768, padding_idx=0)\n",
       "      (position_embeddings): Embedding(512, 768)\n",
       "      (token_type_embeddings): Embedding(2, 768)\n",
       "      (LayerNorm): LayerNorm((768,), eps=1e-12, elementwise_affine=True)\n",
       "      (dropout): Dropout(p=0.1, inplace=False)\n",
       "    )\n",
       "    (encoder): BertEncoder(\n",
       "      (layer): ModuleList(\n",
       "        (0-11): 12 x BertLayer(\n",
       "          (attention): BertAttention(\n",
       "            (self): BertSdpaSelfAttention(\n",
       "              (query): Linear(in_features=768, out_features=768, bias=True)\n",
       "              (key): Linear(in_features=768, out_features=768, bias=True)\n",
       "              (value): Linear(in_features=768, out_features=768, bias=True)\n",
       "              (dropout): Dropout(p=0.1, inplace=False)\n",
       "            )\n",
       "            (output): BertSelfOutput(\n",
       "              (dense): Linear(in_features=768, out_features=768, bias=True)\n",
       "              (LayerNorm): LayerNorm((768,), eps=1e-12, elementwise_affine=True)\n",
       "              (dropout): Dropout(p=0.1, inplace=False)\n",
       "            )\n",
       "          )\n",
       "          (intermediate): BertIntermediate(\n",
       "            (dense): Linear(in_features=768, out_features=3072, bias=True)\n",
       "            (intermediate_act_fn): GELUActivation()\n",
       "          )\n",
       "          (output): BertOutput(\n",
       "            (dense): Linear(in_features=3072, out_features=768, bias=True)\n",
       "            (LayerNorm): LayerNorm((768,), eps=1e-12, elementwise_affine=True)\n",
       "            (dropout): Dropout(p=0.1, inplace=False)\n",
       "          )\n",
       "        )\n",
       "      )\n",
       "    )\n",
       "    (pooler): BertPooler(\n",
       "      (dense): Linear(in_features=768, out_features=768, bias=True)\n",
       "      (activation): Tanh()\n",
       "    )\n",
       "  )\n",
       "  (dropout): Dropout(p=0.1, inplace=False)\n",
       "  (classifier): Linear(in_features=768, out_features=2, bias=True)\n",
       ")"
      ]
     },
     "execution_count": 54,
     "metadata": {},
     "output_type": "execute_result"
    }
   ],
   "source": [
    "from transformers import BertForSequenceClassification, BertTokenizer\n",
    "\n",
    "# Load the saved model\n",
    "model = BertForSequenceClassification.from_pretrained('./bert_sentiment_model_v1')\n",
    "\n",
    "# Load the saved tokenizer\n",
    "tokenizer = BertTokenizer.from_pretrained('./bert_sentiment_model_v1')\n",
    "\n",
    "# Move the model to the appropriate device (CPU or GPU)\n",
    "device = torch.device(\"cuda\" if torch.cuda.is_available() else \"cpu\")\n",
    "model.to(device)\n"
   ]
  },
  {
   "cell_type": "code",
   "execution_count": 57,
   "metadata": {},
   "outputs": [
    {
     "name": "stderr",
     "output_type": "stream",
     "text": [
      "C:\\Users\\amey9\\AppData\\Local\\Temp\\ipykernel_6664\\1151776240.py:7: UserWarning: To copy construct from a tensor, it is recommended to use sourceTensor.clone().detach() or sourceTensor.clone().detach().requires_grad_(True), rather than torch.tensor(sourceTensor).\n",
      "  train_labels = torch.tensor(train_labels)\n"
     ]
    },
    {
     "name": "stdout",
     "output_type": "stream",
     "text": [
      "Epoch 1/3\n"
     ]
    },
    {
     "name": "stderr",
     "output_type": "stream",
     "text": [
      "100%|██████████| 155/155 [13:22<00:00,  5.18s/it]\n"
     ]
    },
    {
     "name": "stdout",
     "output_type": "stream",
     "text": [
      "Average training loss with class weighting: 0.0303\n",
      "Epoch 2/3\n"
     ]
    },
    {
     "name": "stderr",
     "output_type": "stream",
     "text": [
      "100%|██████████| 155/155 [13:43<00:00,  5.31s/it]\n"
     ]
    },
    {
     "name": "stdout",
     "output_type": "stream",
     "text": [
      "Average training loss with class weighting: 0.0133\n",
      "Epoch 3/3\n"
     ]
    },
    {
     "name": "stderr",
     "output_type": "stream",
     "text": [
      "100%|██████████| 155/155 [12:57<00:00,  5.02s/it]"
     ]
    },
    {
     "name": "stdout",
     "output_type": "stream",
     "text": [
      "Average training loss with class weighting: 0.0101\n"
     ]
    },
    {
     "name": "stderr",
     "output_type": "stream",
     "text": [
      "\n"
     ]
    }
   ],
   "source": [
    "from torch.optim import AdamW  # Use the PyTorch AdamW optimizer\n",
    "\n",
    "# Tokenize the expanded dataset\n",
    "train_encodings = tokenizer(train_texts, padding=True, truncation=True, return_tensors='pt', max_length=128)\n",
    "\n",
    "# Convert labels to tensor\n",
    "train_labels = torch.tensor(train_labels)\n",
    "\n",
    "# PyTorch Dataset class to handle tokenized encodings and labels\n",
    "class ReviewDataset(torch.utils.data.Dataset):\n",
    "    def __init__(self, encodings, labels):\n",
    "        self.encodings = encodings\n",
    "        self.labels = labels\n",
    "\n",
    "    def __len__(self):\n",
    "        return len(self.labels)\n",
    "\n",
    "    def __getitem__(self, idx):\n",
    "        item = {key: val[idx] for key, val in self.encodings.items()}\n",
    "        item['labels'] = torch.tensor(self.labels[idx], dtype=torch.long)  # Fixed the issue here\n",
    "        return item\n",
    "\n",
    "\n",
    "# Create the dataset and DataLoader\n",
    "train_dataset = ReviewDataset(train_encodings, train_labels)\n",
    "train_loader = torch.utils.data.DataLoader(train_dataset, batch_size=16, shuffle=True)\n",
    "\n",
    "# Compute class weights if the dataset is imbalanced\n",
    "classes = torch.unique(train_labels).numpy()  # [0, 1]\n",
    "class_weights = compute_class_weight('balanced', classes=classes, y=train_labels.numpy())\n",
    "class_weights = torch.tensor(class_weights, dtype=torch.float).to(device)\n",
    "\n",
    "# Define the optimizer with PyTorch's AdamW\n",
    "optimizer = AdamW(model.parameters(), lr=2e-5)\n",
    "\n",
    "# Training function with class weighting\n",
    "def train(model, train_loader, optimizer, device, class_weights):\n",
    "    model.train()  # Set the model to training mode\n",
    "    total_loss = 0\n",
    "    \n",
    "    for batch in tqdm(train_loader):\n",
    "        # Move inputs and labels to device (GPU or CPU)\n",
    "        input_ids = batch['input_ids'].to(device)\n",
    "        attention_mask = batch['attention_mask'].to(device)\n",
    "        labels = batch['labels'].to(device)\n",
    "        \n",
    "        # Forward pass to get model outputs and calculate loss\n",
    "        outputs = model(input_ids, attention_mask=attention_mask, labels=labels)\n",
    "        loss = outputs.loss\n",
    "\n",
    "        # Apply class weights to the loss\n",
    "        weighted_loss = loss * class_weights[labels]\n",
    "        loss = weighted_loss.mean()  # Compute average loss\n",
    "\n",
    "        # Backward pass and optimization\n",
    "        optimizer.zero_grad()  # Clear previous gradients\n",
    "        loss.backward()        # Backpropagation\n",
    "        optimizer.step()       # Update model parameters\n",
    "\n",
    "        total_loss += loss.item()\n",
    "\n",
    "    avg_loss = total_loss / len(train_loader)\n",
    "    print(f\"Average training loss with class weighting: {avg_loss:.4f}\")\n",
    "\n",
    "# Fine-tune for a few epochs\n",
    "num_epochs = 3\n",
    "for epoch in range(num_epochs):\n",
    "    print(f\"Epoch {epoch+1}/{num_epochs}\")\n",
    "    train(model, train_loader, optimizer, device, class_weights)\n",
    "\n"
   ]
  },
  {
   "cell_type": "code",
   "execution_count": 58,
   "metadata": {},
   "outputs": [
    {
     "data": {
      "text/plain": [
       "('./bert_sentiment_tokenizer_v2\\\\tokenizer_config.json',\n",
       " './bert_sentiment_tokenizer_v2\\\\special_tokens_map.json',\n",
       " './bert_sentiment_tokenizer_v2\\\\vocab.txt',\n",
       " './bert_sentiment_tokenizer_v2\\\\added_tokens.json')"
      ]
     },
     "execution_count": 58,
     "metadata": {},
     "output_type": "execute_result"
    }
   ],
   "source": [
    "# Save the fine-tuned model and tokenizer\n",
    "model.save_pretrained('./bert_sentiment_v2')\n",
    "tokenizer.save_pretrained('./bert_sentiment_tokenizer_v2')"
   ]
  },
  {
   "cell_type": "code",
   "execution_count": 63,
   "metadata": {},
   "outputs": [],
   "source": [
    "import torch\n",
    "from transformers import BertForSequenceClassification, BertTokenizer\n",
    "\n",
    "# Load the fine-tuned model\n",
    "model = BertForSequenceClassification.from_pretrained('./bert_sentiment_v2')\n",
    "model.to(device)  # Move model to GPU or CPU\n",
    "\n",
    "# Load the saved tokenizer\n",
    "tokenizer = BertTokenizer.from_pretrained('./bert_sentiment_tokenizer_v2')"
   ]
  },
  {
   "cell_type": "code",
   "execution_count": 64,
   "metadata": {},
   "outputs": [
    {
     "name": "stdout",
     "output_type": "stream",
     "text": [
      "Test Accuracy: 0.9577\n",
      "F1 Score: 0.9775474956822107\n",
      "Confusion Matrix:\n",
      " [[ 11   9]\n",
      " [  4 283]]\n",
      "Classification Report:\n",
      "               precision    recall  f1-score   support\n",
      "\n",
      "           0       0.73      0.55      0.63        20\n",
      "           1       0.97      0.99      0.98       287\n",
      "\n",
      "    accuracy                           0.96       307\n",
      "   macro avg       0.85      0.77      0.80       307\n",
      "weighted avg       0.95      0.96      0.95       307\n",
      "\n"
     ]
    }
   ],
   "source": [
    "# Tokenize the test data\n",
    "test_encodings = tokenizer(test_texts, padding=True, truncation=True, return_tensors='pt', max_length=128)\n",
    "class ReviewDataset(torch.utils.data.Dataset):\n",
    "    def __init__(self, encodings, labels):\n",
    "        self.encodings = encodings\n",
    "        self.labels = labels\n",
    "\n",
    "    def __len__(self):\n",
    "        return len(self.labels)\n",
    "\n",
    "    def __getitem__(self, idx):\n",
    "        item = {key: val[idx] for key, val in self.encodings.items()}\n",
    "        item['labels'] = torch.tensor(self.labels[idx], dtype=torch.long)  # Fixed the issue here\n",
    "        return item\n",
    "\n",
    "# Create test dataset and loader\n",
    "test_dataset = ReviewDataset(test_encodings, test_labels)\n",
    "test_loader = torch.utils.data.DataLoader(test_dataset, batch_size=16, shuffle=False)\n",
    "\n",
    "# Move model to evaluation mode\n",
    "model.eval()\n",
    "\n",
    "# Evaluate on test data\n",
    "correct = 0\n",
    "total = 0\n",
    "predictions = []\n",
    "labels = []\n",
    "\n",
    "with torch.no_grad():\n",
    "    for batch in test_loader:\n",
    "        input_ids = batch['input_ids'].to(device)\n",
    "        attention_mask = batch['attention_mask'].to(device)\n",
    "        label_ids = batch['labels'].to(device)\n",
    "        \n",
    "        outputs = model(input_ids, attention_mask=attention_mask)\n",
    "        preds = torch.argmax(outputs.logits, dim=-1)\n",
    "        \n",
    "        correct += (preds == label_ids).sum().item()\n",
    "        total += label_ids.size(0)\n",
    "        \n",
    "        predictions.extend(preds.cpu().numpy())\n",
    "        labels.extend(label_ids.cpu().numpy())\n",
    "\n",
    "# Calculate accuracy\n",
    "accuracy = correct / total\n",
    "print(f\"Test Accuracy: {accuracy:.4f}\")\n",
    "\n",
    "# Optionally, calculate F1 score, precision, recall, confusion matrix\n",
    "from sklearn.metrics import f1_score, confusion_matrix, classification_report\n",
    "\n",
    "print(\"F1 Score:\", f1_score(labels, predictions))\n",
    "print(\"Confusion Matrix:\\n\", confusion_matrix(labels, predictions))\n",
    "print(\"Classification Report:\\n\", classification_report(labels, predictions))\n"
   ]
  }
 ],
 "metadata": {
  "kernelspec": {
   "display_name": "Python 3",
   "language": "python",
   "name": "python3"
  },
  "language_info": {
   "codemirror_mode": {
    "name": "ipython",
    "version": 3
   },
   "file_extension": ".py",
   "mimetype": "text/x-python",
   "name": "python",
   "nbconvert_exporter": "python",
   "pygments_lexer": "ipython3",
   "version": "3.11.9"
  }
 },
 "nbformat": 4,
 "nbformat_minor": 2
}
